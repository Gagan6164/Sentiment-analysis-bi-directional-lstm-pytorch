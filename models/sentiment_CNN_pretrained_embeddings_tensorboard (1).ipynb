{
  "nbformat": 4,
  "nbformat_minor": 0,
  "metadata": {
    "colab": {
      "name": "sentiment_CNN_pretrained_embeddings_tensorboard.ipynb",
      "version": "0.3.2",
      "provenance": [],
      "collapsed_sections": []
    },
    "kernelspec": {
      "name": "python3",
      "display_name": "Python 3"
    },
    "accelerator": "GPU"
  },
  "cells": [
    {
      "cell_type": "code",
      "metadata": {
        "id": "P2svQSubkItN",
        "colab_type": "code",
        "outputId": "02844b20-ea69-42ab-e4d9-7dc13c9afdb6",
        "colab": {
          "base_uri": "https://localhost:8080/",
          "height": 121
        }
      },
      "source": [
        "\n",
        "from google.colab import drive\n",
        "\n",
        "drive.mount('/content/gdrive')\n",
        "root_path = 'gdrive/My Drive/'\n",
        "\n"
      ],
      "execution_count": 1,
      "outputs": [
        {
          "output_type": "stream",
          "text": [
            "Go to this URL in a browser: https://accounts.google.com/o/oauth2/auth?client_id=947318989803-6bn6qk8qdgf4n4g3pfee6491hc0brc4i.apps.googleusercontent.com&redirect_uri=urn%3Aietf%3Awg%3Aoauth%3A2.0%3Aoob&scope=email%20https%3A%2F%2Fwww.googleapis.com%2Fauth%2Fdocs.test%20https%3A%2F%2Fwww.googleapis.com%2Fauth%2Fdrive%20https%3A%2F%2Fwww.googleapis.com%2Fauth%2Fdrive.photos.readonly%20https%3A%2F%2Fwww.googleapis.com%2Fauth%2Fpeopleapi.readonly&response_type=code\n",
            "\n",
            "Enter your authorization code:\n",
            "··········\n",
            "Mounted at /content/gdrive\n"
          ],
          "name": "stdout"
        }
      ]
    },
    {
      "cell_type": "code",
      "metadata": {
        "id": "7d991--97s6M",
        "colab_type": "code",
        "colab": {}
      },
      "source": [
        "# 1.) function for reading data and formatting\n",
        "\n",
        "def read_file(file_name): \n",
        "    data_list  = []\n",
        "    with open(file_name, 'r') as f: \n",
        "        for line in f: \n",
        "            line = line.strip() \n",
        "            label = ' '.join(line[1:line.find(\"]\")].strip().split())\n",
        "            text = line[line.find(\"]\")+1:].strip()\n",
        "            data_list.append([label, text])\n",
        "    return data_list "
      ],
      "execution_count": 0,
      "outputs": []
    },
    {
      "cell_type": "code",
      "metadata": {
        "id": "KX5nWNFt8Tv8",
        "colab_type": "code",
        "colab": {}
      },
      "source": [
        "# file path\n",
        "\n",
        "file_name = \"../content/psychExp.txt\"\n",
        "psychExp_txt = read_file(file_name)"
      ],
      "execution_count": 0,
      "outputs": []
    },
    {
      "cell_type": "code",
      "metadata": {
        "id": "hrq5jLiB9b1x",
        "colab_type": "code",
        "outputId": "8fb8b772-93bb-48c0-9ca6-57d49a5568d3",
        "colab": {
          "base_uri": "https://localhost:8080/",
          "height": 34
        }
      },
      "source": [
        "print('Total no. of instances: {}'.format(len(psychExp_txt)))"
      ],
      "execution_count": 4,
      "outputs": [
        {
          "output_type": "stream",
          "text": [
            "Total no. of instances: 7480\n"
          ],
          "name": "stdout"
        }
      ]
    },
    {
      "cell_type": "code",
      "metadata": {
        "id": "mbzMka0m9iMK",
        "colab_type": "code",
        "colab": {}
      },
      "source": [
        "# method for converting labels from one hot to classes\n",
        "\n",
        "def convert_label(item, name): \n",
        "    items = list(map(float, item.split()))\n",
        "    label = \"\"\n",
        "    for idx in range(len(items)): \n",
        "        if items[idx] == 1: \n",
        "            label += name[idx] + \" \"\n",
        "    \n",
        "    return label.strip()"
      ],
      "execution_count": 0,
      "outputs": []
    },
    {
      "cell_type": "code",
      "metadata": {
        "id": "IqWMWTPg9yUZ",
        "colab_type": "code",
        "colab": {}
      },
      "source": [
        "# classes\n",
        "\n",
        "emotions = [\"joy\", 'fear', \"anger\", \"sadness\", \"disgust\", \"shame\", \"guilt\"]"
      ],
      "execution_count": 0,
      "outputs": []
    },
    {
      "cell_type": "code",
      "metadata": {
        "id": "EGNK_nnJ92kL",
        "colab_type": "code",
        "colab": {}
      },
      "source": [
        "X_all = []\n",
        "y_all = []\n",
        "for label, text in psychExp_txt:\n",
        "    X_all.append(text.lower())\n",
        "    y_all.append(convert_label(label, emotions))"
      ],
      "execution_count": 0,
      "outputs": []
    },
    {
      "cell_type": "code",
      "metadata": {
        "id": "pRcy55bR-HEj",
        "colab_type": "code",
        "outputId": "cf3a405b-c027-449f-8f02-0e4118426b47",
        "colab": {
          "base_uri": "https://localhost:8080/",
          "height": 34
        }
      },
      "source": [
        "# Data processing\n",
        "\n",
        "from string import punctuation\n",
        "print('punctuations to be removed: {}'.format(punctuation))\n",
        "\n",
        "X_all_pro = []\n",
        "for text in X_all:\n",
        "    all_text = ''.join([c for c in text if c not in punctuation])\n",
        "    X_all_pro.append(all_text)"
      ],
      "execution_count": 8,
      "outputs": [
        {
          "output_type": "stream",
          "text": [
            "punctuations to be removed: !\"#$%&'()*+,-./:;<=>?@[\\]^_`{|}~\n"
          ],
          "name": "stdout"
        }
      ]
    },
    {
      "cell_type": "code",
      "metadata": {
        "id": "tKpeKerW-IIS",
        "colab_type": "code",
        "colab": {}
      },
      "source": [
        "# Tokenize — Create Vocab to Int mapping dictionary\n",
        "\n",
        "from collections import Counter\n",
        "all_text2 = ' '.join(X_all_pro)\n",
        "\n",
        "# create a list of words\n",
        "words = all_text2.split()\n",
        "\n",
        "# Count all the words using Counter Method\n",
        "count_words = Counter(words)\n",
        "\n",
        "total_words = len(words)\n",
        "sorted_words = count_words.most_common(total_words)"
      ],
      "execution_count": 0,
      "outputs": []
    },
    {
      "cell_type": "code",
      "metadata": {
        "id": "9Tb8dmHnsLw1",
        "colab_type": "code",
        "outputId": "4c13a895-0800-430b-d34a-9451edc54e88",
        "colab": {
          "base_uri": "https://localhost:8080/",
          "height": 34
        }
      },
      "source": [
        "\n",
        "sorted_words.insert(0,('',11000))\n",
        "print(len(sorted_words))"
      ],
      "execution_count": 135,
      "outputs": [
        {
          "output_type": "stream",
          "text": [
            "9341\n"
          ],
          "name": "stdout"
        }
      ]
    },
    {
      "cell_type": "code",
      "metadata": {
        "id": "zUTahaws-QxQ",
        "colab_type": "code",
        "colab": {}
      },
      "source": [
        "# vocab to integer mapping dictionary with starting index 1\n",
        "\n",
        "vocab_to_int = {w:i for i, (w,c) in enumerate(sorted_words)}"
      ],
      "execution_count": 0,
      "outputs": []
    },
    {
      "cell_type": "code",
      "metadata": {
        "id": "idoHTIO-tvGW",
        "colab_type": "code",
        "colab": {}
      },
      "source": [
        "target_vocab = []\n",
        "for i, (w,c) in enumerate(sorted_words):\n",
        "  target_vocab.append(w)"
      ],
      "execution_count": 0,
      "outputs": []
    },
    {
      "cell_type": "code",
      "metadata": {
        "id": "0_mbfTVXly_D",
        "colab_type": "code",
        "outputId": "9e5727fa-e221-468e-bdd5-e0e3aef1379a",
        "colab": {
          "base_uri": "https://localhost:8080/",
          "height": 185
        }
      },
      "source": [
        "\n",
        "!pip3 install bcolz\n"
      ],
      "execution_count": 17,
      "outputs": [
        {
          "output_type": "stream",
          "text": [
            "Collecting bcolz\n",
            "\u001b[?25l  Downloading https://files.pythonhosted.org/packages/5c/4e/23942de9d5c0fb16f10335fa83e52b431bcb8c0d4a8419c9ac206268c279/bcolz-1.2.1.tar.gz (1.5MB)\n",
            "\u001b[K     |████████████████████████████████| 1.5MB 3.4MB/s \n",
            "\u001b[?25hRequirement already satisfied: numpy>=1.7 in /usr/local/lib/python3.6/dist-packages (from bcolz) (1.16.3)\n",
            "Building wheels for collected packages: bcolz\n",
            "  Building wheel for bcolz (setup.py) ... \u001b[?25l\u001b[?25hdone\n",
            "  Stored in directory: /root/.cache/pip/wheels/9f/78/26/fb8c0acb91a100dc8914bf236c4eaa4b207cb876893c40b745\n",
            "Successfully built bcolz\n",
            "Installing collected packages: bcolz\n",
            "Successfully installed bcolz-1.2.1\n"
          ],
          "name": "stdout"
        }
      ]
    },
    {
      "cell_type": "code",
      "metadata": {
        "id": "via9aeq4RspV",
        "colab_type": "code",
        "colab": {}
      },
      "source": [
        "import bcolz\n",
        "import numpy as np\n",
        "import pickle"
      ],
      "execution_count": 0,
      "outputs": []
    },
    {
      "cell_type": "code",
      "metadata": {
        "id": "qLbFwrGHZzmC",
        "colab_type": "code",
        "colab": {}
      },
      "source": [
        "\n",
        "words = []\n",
        "idx = 0\n",
        "word2idx = {}\n",
        "glove_path = \"../content/gdrive/My Drive/\"\n",
        "store_dir = \"../content\"\n",
        "vectors = bcolz.carray(np.zeros(1), rootdir=f'{store_dir}/6B.300.dat', mode='w')\n",
        "\n",
        "with open(f'{glove_path}/glove.6B.300d.txt', 'rb') as f:\n",
        "    for l in f:\n",
        "        line = l.decode().split()\n",
        "        word = line[0]\n",
        "        words.append(word)\n",
        "        word2idx[word] = idx\n",
        "        idx += 1\n",
        "        vect = np.array(line[1:]).astype(np.float)\n",
        "        vectors.append(vect)\n",
        "    \n",
        "vectors = bcolz.carray(vectors[1:].reshape((400000, 300)), rootdir=f'{store_dir}/6B.300.dat', mode='w')\n",
        "vectors.flush()\n",
        "pickle.dump(words, open(f'{store_dir}/6B.300_words.pkl', 'wb'))\n",
        "pickle.dump(word2idx, open(f'{store_dir}/6B.300_idx.pkl', 'wb'))\n"
      ],
      "execution_count": 0,
      "outputs": []
    },
    {
      "cell_type": "code",
      "metadata": {
        "id": "rloUSqB_Z5ml",
        "colab_type": "code",
        "colab": {}
      },
      "source": [
        "\n",
        "store_dir = \"../content\"\n",
        "vectors = bcolz.open(f'{store_dir}/6B.300.dat')[:]\n",
        "words = pickle.load(open(f'{store_dir}/6B.300_words.pkl', 'rb'))\n",
        "word2idx = pickle.load(open(f'{store_dir}/6B.300_idx.pkl', 'rb'))\n",
        "\n",
        "glove = {w: vectors[word2idx[w]] for w in words}"
      ],
      "execution_count": 0,
      "outputs": []
    },
    {
      "cell_type": "code",
      "metadata": {
        "id": "h8S8nuHtpoDy",
        "colab_type": "code",
        "colab": {}
      },
      "source": [
        "# glove[\"happy\"]"
      ],
      "execution_count": 0,
      "outputs": []
    },
    {
      "cell_type": "code",
      "metadata": {
        "id": "uo0OooGqaExu",
        "colab_type": "code",
        "colab": {}
      },
      "source": [
        "\n",
        "matrix_len = len(target_vocab)\n",
        "weights_matrix = np.zeros((matrix_len, 300))\n",
        "words_found = 0\n",
        "emb_dim = 300\n",
        "\n",
        "for i, word in enumerate(target_vocab):\n",
        "    try: \n",
        "        weights_matrix[i] = glove[word]\n",
        "        words_found += 1\n",
        "    except KeyError:\n",
        "        weights_matrix[i] = np.random.normal(scale=0.6, size=(emb_dim, ))"
      ],
      "execution_count": 0,
      "outputs": []
    },
    {
      "cell_type": "code",
      "metadata": {
        "id": "VDrHdQtFypO3",
        "colab_type": "code",
        "outputId": "4893ef00-587b-44da-c5ee-638b116c65ea",
        "colab": {
          "base_uri": "https://localhost:8080/",
          "height": 34
        }
      },
      "source": [
        "weights_matrix.shape\n"
      ],
      "execution_count": 23,
      "outputs": [
        {
          "output_type": "execute_result",
          "data": {
            "text/plain": [
              "(9340, 300)"
            ]
          },
          "metadata": {
            "tags": []
          },
          "execution_count": 23
        }
      ]
    },
    {
      "cell_type": "code",
      "metadata": {
        "id": "PNv3BWCWaTqn",
        "colab_type": "code",
        "colab": {}
      },
      "source": [
        "#self.embedding, num_embeddings, embedding_dim = create_emb_layer(weights_matrix, True)"
      ],
      "execution_count": 0,
      "outputs": []
    },
    {
      "cell_type": "code",
      "metadata": {
        "id": "iVnXDeP7-Uni",
        "colab_type": "code",
        "outputId": "f39f21ec-4561-4fb5-c41b-4fa342bd18f7",
        "colab": {
          "base_uri": "https://localhost:8080/",
          "height": 54
        }
      },
      "source": [
        "# encoading the words\n",
        "\n",
        "X_all_int = []\n",
        "for text in X_all_pro:\n",
        "    r = [vocab_to_int[w] for w in text.split()]\n",
        "    X_all_int.append(r)\n",
        "    \n",
        "print (X_all_int[0:3])"
      ],
      "execution_count": 25,
      "outputs": [
        {
          "output_type": "stream",
          "text": [
            "[[112, 2, 572, 9, 952, 10, 161, 256, 35, 13, 27, 169, 6, 540, 8, 27, 11, 15, 169, 14, 3, 150, 35], [8, 1, 7, 414, 10, 3, 772, 192], [8, 1, 7, 326, 50, 33, 189, 177, 9, 347, 114, 63, 7, 3, 4683, 1363, 9, 12, 41, 7, 326, 18, 1462, 4684, 6, 283, 550, 43, 606, 4685, 4, 314, 12, 2282]]\n"
          ],
          "name": "stdout"
        }
      ]
    },
    {
      "cell_type": "code",
      "metadata": {
        "id": "gPw-Hh7F-fqA",
        "colab_type": "code",
        "colab": {}
      },
      "source": [
        "# for convering labels from classes to class index\n",
        "def label_to_int(label_text):\n",
        "    emotions_dict = {\"joy\":0, \"fear\":1, \"anger\":2, \"sadness\":3, \"disgust\":4, \"shame\":5, \"guilt\":6}\n",
        "    label_int = []\n",
        "    for label in label_text:\n",
        "        label_int.append(emotions_dict[label])\n",
        "    return label_int\n",
        "  \n",
        "  \n",
        "labels = label_to_int(y_all)"
      ],
      "execution_count": 0,
      "outputs": []
    },
    {
      "cell_type": "code",
      "metadata": {
        "id": "ASYEsJaV-vVo",
        "colab_type": "code",
        "outputId": "53d07dd6-05cc-4a0e-c5c2-a3d860462ce3",
        "colab": {
          "base_uri": "https://localhost:8080/",
          "height": 420
        }
      },
      "source": [
        "# analysing the text data lenghth\n",
        "\n",
        "import pandas as pd\n",
        "import matplotlib.pyplot as plt\n",
        "%matplotlib inline\n",
        "text_len = [len(x) for x in X_all_int]\n",
        "pd.Series(text_len).hist()\n",
        "plt.show()\n",
        "pd.Series(text_len).describe()"
      ],
      "execution_count": 28,
      "outputs": [
        {
          "output_type": "display_data",
          "data": {
            "image/png": "[encoded data removed]",
            "text/plain": [
              "<Figure size 432x288 with 1 Axes>"
            ]
          },
          "metadata": {
            "tags": []
          }
        },
        {
          "output_type": "execute_result",
          "data": {
            "text/plain": [
              "count    7480.000000\n",
              "mean       22.160160\n",
              "std        14.654072\n",
              "min         1.000000\n",
              "25%        12.000000\n",
              "50%        19.000000\n",
              "75%        30.000000\n",
              "max       178.000000\n",
              "dtype: float64"
            ]
          },
          "metadata": {
            "tags": []
          },
          "execution_count": 28
        }
      ]
    },
    {
      "cell_type": "code",
      "metadata": {
        "id": "huGUlqzg-xTg",
        "colab_type": "code",
        "colab": {}
      },
      "source": [
        "# padding the data for having same dimention\n",
        "import numpy as np\n",
        "\n",
        "def pad_features(text_int, seq_length):\n",
        "    ''' Return features of text_ints, where each text is padded with 0's or truncated to the input seq_length.\n",
        "    '''\n",
        "    features = np.zeros((len(text_int), seq_length), dtype = int)\n",
        "    \n",
        "    for i, text in enumerate(text_int):\n",
        "        text_len = len(text)\n",
        "        \n",
        "        if text_len <= seq_length:\n",
        "            zeroes = list(np.zeros(seq_length-text_len))\n",
        "            new = zeroes+text\n",
        "        elif text_len > seq_length:\n",
        "            new = text[0:seq_length]\n",
        "        \n",
        "        features[i,:] = np.array(new)\n",
        "    \n",
        "    return features"
      ],
      "execution_count": 0,
      "outputs": []
    },
    {
      "cell_type": "code",
      "metadata": {
        "id": "RONdLDac_eSi",
        "colab_type": "code",
        "colab": {}
      },
      "source": [
        "seq_length = 64 # length after padding \n",
        "X_all_pad = pad_features(X_all_int, seq_length)"
      ],
      "execution_count": 0,
      "outputs": []
    },
    {
      "cell_type": "code",
      "metadata": {
        "id": "4jjYkm0A-2IQ",
        "colab_type": "code",
        "outputId": "8982d53d-278a-47a0-8081-fde7da42640e",
        "colab": {
          "base_uri": "https://localhost:8080/",
          "height": 84
        }
      },
      "source": [
        "print('length of X_all_pad: {}'.format(len(X_all_pad)))\n",
        "print('length of labels: {}'.format(len(labels)))\n",
        "\n",
        "# converting labels from list to numpy.nparray\n",
        "\n",
        "print('data type of labels before convesion: {}'.format(type(labels)))\n",
        "labels = np.array(labels)\n",
        "print('data type of labels after convesion: {}'.format(type(labels)))"
      ],
      "execution_count": 31,
      "outputs": [
        {
          "output_type": "stream",
          "text": [
            "length of X_all_pad: 7480\n",
            "length of labels: 7480\n",
            "data type of labels before convesion: <class 'list'>\n",
            "data type of labels after convesion: <class 'numpy.ndarray'>\n"
          ],
          "name": "stdout"
        }
      ]
    },
    {
      "cell_type": "code",
      "metadata": {
        "id": "bGXPZVRg_q4v",
        "colab_type": "code",
        "outputId": "f48eb3f4-ebe5-457c-80e9-372363c98c6c",
        "colab": {
          "base_uri": "https://localhost:8080/",
          "height": 101
        }
      },
      "source": [
        "# train (80%), validation (10%) ,test data (10%) split\n",
        "\n",
        "len_X_all = len(X_all_pad)\n",
        "\n",
        "\n",
        "split_frac = 0.8\n",
        "\n",
        "train_x = X_all_pad[0:int(split_frac*len_X_all)+16]\n",
        "train_y = labels[0:int(split_frac*len_X_all)+16]\n",
        "\n",
        "remaining_x = X_all_pad[int(split_frac*len_X_all)-4:]\n",
        "remaining_y = labels[int(split_frac*len_X_all)-4:]\n",
        "\n",
        "test_x = remaining_x[0:int(len(remaining_x)*0.5)]\n",
        "test_y = remaining_y[0:int(len(remaining_y)*0.5)]\n",
        "\n",
        "valid_x = remaining_x[int(len(remaining_x)*0.5):]\n",
        "valid_y = remaining_y[int(len(remaining_y)*0.5):]\n",
        "\n",
        "print(type(train_x),type(np.array(train_y)))\n",
        "\n",
        "print(\"train data size: \",train_x.shape)\n",
        "print(\"remaining data size: \",remaining_x.shape)\n",
        "print(\"valid data size: \",valid_x.shape)\n",
        "print(\"test data size: \",test_x.shape)"
      ],
      "execution_count": 32,
      "outputs": [
        {
          "output_type": "stream",
          "text": [
            "<class 'numpy.ndarray'> <class 'numpy.ndarray'>\n",
            "train data size:  (6000, 64)\n",
            "remaining data size:  (1500, 64)\n",
            "valid data size:  (750, 64)\n",
            "test data size:  (750, 64)\n"
          ],
          "name": "stdout"
        }
      ]
    },
    {
      "cell_type": "code",
      "metadata": {
        "id": "ZM2nCxYp_yMQ",
        "colab_type": "code",
        "colab": {}
      },
      "source": [
        "# Data loading and batch formation\n",
        "\n",
        "import torch\n",
        "from torch.utils.data import DataLoader, TensorDataset\n",
        "\n",
        "# create Tensor datasets\n",
        "train_data = TensorDataset(torch.from_numpy(train_x), torch.from_numpy(train_y))\n",
        "valid_data = TensorDataset(torch.from_numpy(valid_x), torch.from_numpy(valid_y))\n",
        "test_data = TensorDataset(torch.from_numpy(test_x), torch.from_numpy(test_y))\n",
        "\n",
        "# dataloaders\n",
        "batch_size = 50\n",
        "\n",
        "# Shuffeling the data\n",
        "train_loader = DataLoader(train_data, shuffle=True, batch_size=batch_size)\n",
        "valid_loader = DataLoader(valid_data, shuffle=True, batch_size=batch_size)\n",
        "test_loader = DataLoader(test_data, shuffle=True, batch_size=batch_size)"
      ],
      "execution_count": 0,
      "outputs": []
    },
    {
      "cell_type": "code",
      "metadata": {
        "id": "U7qm2HZ9_4eq",
        "colab_type": "code",
        "outputId": "ac84c951-8fe1-4c93-8f55-ab688ecd0fda",
        "colab": {
          "base_uri": "https://localhost:8080/",
          "height": 269
        }
      },
      "source": [
        "# obtain one batch of training data\n",
        "\n",
        "dataiter = iter(train_loader)\n",
        "sample_x, sample_y = dataiter.next()\n",
        "print('Sample input size: ', sample_x.size()) # batch_size, seq_length\n",
        "print('Sample input: \\n', sample_x)\n",
        "print()\n",
        "print('Sample label size: ', sample_y.size()) # batch_size\n",
        "print('Sample label: \\n', sample_y)"
      ],
      "execution_count": 34,
      "outputs": [
        {
          "output_type": "stream",
          "text": [
            "Sample input size:  torch.Size([50, 64])\n",
            "Sample input: \n",
            " tensor([[   0,    0,    0,  ...,    1,   45,  199],\n",
            "        [   0,    0,    0,  ...,    7,  288, 1699],\n",
            "        [   0,    0,    0,  ...,    5,  297,  108],\n",
            "        ...,\n",
            "        [   0,    0,    0,  ...,  130,   18,   72],\n",
            "        [   0,    0,    0,  ...,    4,  100,   26],\n",
            "        [   0,    0,    0,  ...,  181,    1,  325]])\n",
            "\n",
            "Sample label size:  torch.Size([50])\n",
            "Sample label: \n",
            " tensor([1, 1, 0, 2, 1, 5, 4, 6, 5, 3, 0, 4, 1, 3, 6, 5, 1, 0, 5, 3, 6, 0, 3, 6,\n",
            "        1, 0, 1, 2, 1, 1, 4, 3, 4, 5, 2, 2, 2, 5, 6, 3, 1, 4, 4, 2, 3, 4, 2, 1,\n",
            "        6, 0])\n"
          ],
          "name": "stdout"
        }
      ]
    },
    {
      "cell_type": "code",
      "metadata": {
        "id": "WvwEJm0paLlj",
        "colab_type": "code",
        "colab": {}
      },
      "source": [
        "def create_emb_layer(weights_matrix, non_trainable=True):\n",
        "    num_embeddings, embedding_dim = weights_matrix.shape\n",
        "    emb_layer = nn.Embedding(num_embeddings, embedding_dim)\n",
        "    #emb_layer.load_state_dict({'weight': weights_matrix})\n",
        "    emb_layer.weight.data.copy_(torch.from_numpy(weights_matrix))\n",
        "    if non_trainable:\n",
        "        emb_layer.weight.requires_grad = False\n",
        "\n",
        "    return emb_layer, num_embeddings, embedding_dim"
      ],
      "execution_count": 0,
      "outputs": []
    },
    {
      "cell_type": "code",
      "metadata": {
        "id": "hWavcjNjE-D-",
        "colab_type": "code",
        "colab": {}
      },
      "source": [
        "from logger import Logger\n",
        "\n",
        "logger = Logger('../content/logs')"
      ],
      "execution_count": 0,
      "outputs": []
    },
    {
      "cell_type": "markdown",
      "metadata": {
        "id": "j4IeybPBsUh-",
        "colab_type": "text"
      },
      "source": [
        "# Building the model #"
      ]
    },
    {
      "cell_type": "code",
      "metadata": {
        "id": "rx9OVCcn__88",
        "colab_type": "code",
        "colab": {}
      },
      "source": [
        "# building the model\n",
        "\n",
        "import torch.nn as nn\n",
        "import torch.nn.functional as F\n",
        "\n",
        "class SentimentLSTM(nn.Module):\n",
        "    \"\"\"\n",
        "    The RNN model that will be used to perform Sentiment analysis.\n",
        "    \"\"\"\n",
        "\n",
        "    def __init__(self,weights_matrix, output_size,num_filters,window_sizes , drop_prob=0.5):\n",
        "        \"\"\"\n",
        "        Initialize the model by setting up the layers.\n",
        "        \"\"\"\n",
        "        super().__init__()\n",
        "\n",
        "        self.output_size = output_size\n",
        "\n",
        "        self.num_filters = num_filters\n",
        "        \n",
        "        self.window_sizes = window_sizes\n",
        "        \n",
        "        \n",
        "        self.embedding, num_embeddings, embedding_dim = create_emb_layer(weights_matrix, True)\n",
        "        \n",
        "        \n",
        "        \n",
        "        self.convs = nn.ModuleList([\n",
        "            nn.Conv2d(1, num_filters, [window_size, embedding_dim], padding=(window_size - 1, 0))\n",
        "            for window_size in window_sizes\n",
        "        ])\n",
        "        \n",
        "        \n",
        "        # dropout layer\n",
        "        self.dropout = nn.Dropout(0.3)\n",
        "        \n",
        "        \n",
        "        self.fc = nn.Linear(num_filters * len(window_sizes), output_size)\n",
        "        \n",
        "        self.relu = nn.ReLU()\n",
        "        \n",
        "\n",
        "    def forward(self, x ):\n",
        "        \"\"\"\n",
        "        Perform a forward pass of our model on some input and hidden state.\n",
        "        \"\"\"\n",
        "\n",
        "        # embeddings and cnn\n",
        "        x = self.embedding(x)\n",
        "        x = torch.unsqueeze(x, 1)       # [B, C, T, E] Add a channel dim.\n",
        "        xs = []\n",
        "        for conv in self.convs:\n",
        "            x2 = F.relu(conv(x))        # [B, F, T, 1]\n",
        "            x2 = torch.squeeze(x2, -1)  # [B, F, T]\n",
        "            x2 = F.max_pool1d(x2, x2.size(2))  # [B, F, 1]\n",
        "            xs.append(x2)\n",
        "        x = torch.cat(xs, 2)            # [B, F, window]\n",
        "\n",
        "        # FC\n",
        "        x = x.view(x.size(0), -1)       # [B, F * window]\n",
        "        logits = self.fc(x)             # [B, class]\n",
        "\n",
        "        # Prediction\n",
        "        probs = F.softmax(logits)       # [B, class]\n",
        "        classes = torch.max(probs, 1)[1]# [B]\n",
        "\n",
        "        return probs, classes\n",
        "    \n"
      ],
      "execution_count": 0,
      "outputs": []
    },
    {
      "cell_type": "markdown",
      "metadata": {
        "id": "nkgDxMxisPkA",
        "colab_type": "text"
      },
      "source": [
        "## Initializing the model ##"
      ]
    },
    {
      "cell_type": "code",
      "metadata": {
        "id": "8GcJDT26A9u1",
        "colab_type": "code",
        "outputId": "965a0d87-e04c-49a0-f85f-004ebcdfeed7",
        "colab": {
          "base_uri": "https://localhost:8080/",
          "height": 218
        }
      },
      "source": [
        "# Initiating the hyperparams\n",
        "\n",
        "output_size = 7\n",
        "num_filters = 128\n",
        "window_sizes= (3, 4, 5)\n",
        "\n",
        "\n",
        "\n",
        "# device to train on \n",
        "\n",
        "device = torch.device(\"cuda:0\" if torch.cuda.is_available() else \"cpu\")\n",
        "print(device)\n",
        "\n",
        "# Initiating model and model weights\n",
        "\n",
        "net = SentimentLSTM(weights_matrix, output_size,num_filters,window_sizes)\n",
        "net.to(device)\n",
        "print(net)\n"
      ],
      "execution_count": 39,
      "outputs": [
        {
          "output_type": "stream",
          "text": [
            "cuda:0\n",
            "SentimentLSTM(\n",
            "  (embedding): Embedding(9340, 300)\n",
            "  (convs): ModuleList(\n",
            "    (0): Conv2d(1, 128, kernel_size=[3, 300], stride=(1, 1), padding=(2, 0))\n",
            "    (1): Conv2d(1, 128, kernel_size=[4, 300], stride=(1, 1), padding=(3, 0))\n",
            "    (2): Conv2d(1, 128, kernel_size=[5, 300], stride=(1, 1), padding=(4, 0))\n",
            "  )\n",
            "  (dropout): Dropout(p=0.3)\n",
            "  (fc): Linear(in_features=384, out_features=7, bias=True)\n",
            "  (relu): ReLU()\n",
            ")\n"
          ],
          "name": "stdout"
        }
      ]
    },
    {
      "cell_type": "markdown",
      "metadata": {
        "id": "WM8dYD1esKhn",
        "colab_type": "text"
      },
      "source": [
        "# Training the model #"
      ]
    },
    {
      "cell_type": "code",
      "metadata": {
        "id": "xGQrQWSDBos_",
        "colab_type": "code",
        "outputId": "1469d14c-fa82-480e-9a67-53f77a3923fb",
        "colab": {
          "base_uri": "https://localhost:8080/",
          "height": 9428
        }
      },
      "source": [
        "import time\n",
        "import os\n",
        "import copy\n",
        "\n",
        "# Traing the model\n",
        "\n",
        "since = time.time()\n",
        "\n",
        "best_model_wts = copy.deepcopy(net.state_dict())\n",
        "best_acc = 0.0\n",
        "\n",
        "\n",
        "\n",
        "lr=0.001 # learning rate\n",
        "\n",
        "# Initiating optimizer\n",
        "\n",
        "import torch.optim as optim\n",
        "optimizer = optim.Adam(net.parameters(),lr=lr)\n",
        "\n",
        "# definig loss function\n",
        "\n",
        "criterion = nn.CrossEntropyLoss()\n",
        "criterion = criterion.to(device)\n",
        "\n",
        "# training params\n",
        "\n",
        "epochs = 100\n",
        "counter = 0\n",
        "print_every = 130\n",
        "clip=5 # gradient clipping to prevent from gradients exploading \n",
        "\n",
        "train_on_gpu = True if torch.cuda.is_available() else False\n",
        "loss = 0\n",
        "\n",
        "# move model to GPU, if available\n",
        "if(train_on_gpu):\n",
        "    net.cuda()\n",
        "\n",
        "# train for some number of epochs\n",
        "\n",
        "\n",
        "for e in range(epochs):\n",
        "  \n",
        "\n",
        "    \n",
        "    # for calculating train accuracy every epoch\n",
        "    total = 0\n",
        "    correct = 0\n",
        "    \n",
        "    net.train()\n",
        "    \n",
        "    # batch loop\n",
        "    for inputs, labels in train_loader:\n",
        "        counter += 1\n",
        "\n",
        "        if(train_on_gpu):\n",
        "            inputs, labels = inputs.to(device), labels.to(device)\n",
        "\n",
        "\n",
        "\n",
        "        # Converting accumulated gradients to zero at starting of every epoch\n",
        "        net.zero_grad()\n",
        "      \n",
        "      \n",
        "        # get the output from the model\n",
        "        inputs = inputs.type(torch.LongTensor)\n",
        "        probs, classes = net(inputs.to(device))\n",
        "        \n",
        "        # getting the index of output tensors with max values\n",
        "        \n",
        "    \n",
        "        # for calculating accuracy\n",
        "        total += labels.size(0)\n",
        "        correct += (classes == labels).sum().item() # comparing predictions to true label\n",
        "        \n",
        "        \n",
        "        # calculate the loss and perform backprop\n",
        "        loss = criterion(probs, labels)\n",
        "        loss.backward()\n",
        "        \n",
        "        # clip_grad_norm helps prevent the exploding gradient problem in RNNs / LSTMs.\n",
        "        nn.utils.clip_grad_norm_(net.parameters(), clip)\n",
        "        optimizer.step()\n",
        "        \n",
        "        _, argmax = torch.max(probs, 1)\n",
        "        accuracy = (labels == argmax.squeeze()).float().mean()\n",
        "\n",
        "        # loss stats\n",
        "        if counter % print_every == 0:\n",
        "          \n",
        "            info = { 'loss': loss.item(), 'accuracy': accuracy.item() }\n",
        "\n",
        "            for tag, value in info.items():\n",
        "                logger.scalar_summary(tag, value, counter+1)\n",
        "                    \n",
        "                # 2. Log values and gradients of the parameters (histogram summary)\n",
        "            for tag, value in net.named_parameters():\n",
        "                tag = tag.replace('.', '/')\n",
        "                logger.histo_summary(tag, value.data.cpu().numpy(), counter+1)\n",
        "                if value.grad is not None:\n",
        "                    logger.histo_summary(tag+'/grad', value.grad.data.cpu().numpy(), counter+1)\n",
        "          \n",
        "            \n",
        "            total_val = 0\n",
        "            correct_val = 0\n",
        "            \n",
        "            val_losses = [] # for tracking loss\n",
        "            net.eval()\n",
        "            for inputs, labels in valid_loader:\n",
        "\n",
        "\n",
        "                if(train_on_gpu):\n",
        "                    inputs, labels = inputs.to(device), labels.to(device)\n",
        "\n",
        "                inputs = inputs.type(torch.LongTensor)\n",
        "                probs, classes = net(inputs.to(device))\n",
        "                \n",
        "\n",
        "    \n",
        "                # for calculating accuracy\n",
        "                total_val += labels.size(0)\n",
        "                correct_val += (classes == labels).sum().item() # comparing predictions to true label\n",
        "\n",
        "                val_loss = criterion(probs, labels)\n",
        "\n",
        "                val_losses.append(val_loss.item())\n",
        "              \n",
        "            net.train()\n",
        "              \n",
        "            val_acc = (correct_val / total_val) * 100\n",
        "\n",
        "            # deep copy the model\n",
        "            if (val_acc > best_acc):\n",
        "                best_acc = val_acc\n",
        "                print(\"saving model .....\")\n",
        "                best_model_wts = copy.deepcopy(net.state_dict())\n",
        "            \n",
        "            \n",
        "            \n",
        "            \n",
        "            print(\"-\"*10)\n",
        "            print(\"\")\n",
        "            print(\"Epoch: {}/{}\".format(e+1, epochs),\n",
        "                  \"Step: {}\".format(counter),\n",
        "                  \"Loss: {:.4f}\".format(loss.item()),\n",
        "                  \"Val Loss: {:.4f}\".format(np.mean(val_losses)))\n",
        "            \n",
        "            \n",
        "            print(\"Train accuracy: {:.2f}\".format((correct / total) * 100), \"Val accuracy: {:.2f}\".format(val_acc))\n",
        "            print(\"\")\n",
        "            print(\"-\"*10)\n",
        "            \n",
        "            \n",
        "time_elapsed = time.time() - since\n",
        "print('Training complete in {:.0f}m {:.0f}s'.format(time_elapsed // 60, time_elapsed % 60))\n",
        "print('Best val Acc: {:4f}'.format(best_acc))\n",
        "\n"
      ],
      "execution_count": 41,
      "outputs": [
        {
          "output_type": "stream",
          "text": [
            "/usr/local/lib/python3.6/dist-packages/ipykernel_launcher.py:63: UserWarning: Implicit dimension choice for softmax has been deprecated. Change the call to include dim=X as an argument.\n"
          ],
          "name": "stderr"
        },
        {
          "output_type": "stream",
          "text": [
            "saving model .....\n",
            "----------\n",
            "\n",
            "Epoch: 2/100 Step: 130 Loss: 1.4764 Val Loss: 1.6464\n",
            "Train accuracy: 69.60 Val accuracy: 53.07\n",
            "\n",
            "----------\n",
            "saving model .....\n",
            "----------\n",
            "\n",
            "Epoch: 3/100 Step: 260 Loss: 1.4754 Val Loss: 1.6318\n",
            "Train accuracy: 72.80 Val accuracy: 54.27\n",
            "\n",
            "----------\n",
            "----------\n",
            "\n",
            "Epoch: 4/100 Step: 390 Loss: 1.4177 Val Loss: 1.6303\n",
            "Train accuracy: 79.60 Val accuracy: 52.80\n",
            "\n",
            "----------\n",
            "saving model .....\n",
            "----------\n",
            "\n",
            "Epoch: 5/100 Step: 520 Loss: 1.4150 Val Loss: 1.6157\n",
            "Train accuracy: 86.60 Val accuracy: 54.53\n",
            "\n",
            "----------\n",
            "saving model .....\n",
            "----------\n",
            "\n",
            "Epoch: 6/100 Step: 650 Loss: 1.2882 Val Loss: 1.6030\n",
            "Train accuracy: 88.48 Val accuracy: 57.47\n",
            "\n",
            "----------\n",
            "----------\n",
            "\n",
            "Epoch: 7/100 Step: 780 Loss: 1.3309 Val Loss: 1.6118\n",
            "Train accuracy: 89.63 Val accuracy: 54.80\n",
            "\n",
            "----------\n",
            "----------\n",
            "\n",
            "Epoch: 8/100 Step: 910 Loss: 1.3094 Val Loss: 1.6128\n",
            "Train accuracy: 90.86 Val accuracy: 54.80\n",
            "\n",
            "----------\n",
            "----------\n",
            "\n",
            "Epoch: 9/100 Step: 1040 Loss: 1.2097 Val Loss: 1.6063\n",
            "Train accuracy: 91.50 Val accuracy: 55.47\n",
            "\n",
            "----------\n",
            "----------\n",
            "\n",
            "Epoch: 10/100 Step: 1170 Loss: 1.2499 Val Loss: 1.6037\n",
            "Train accuracy: 92.60 Val accuracy: 55.73\n",
            "\n",
            "----------\n",
            "----------\n",
            "\n",
            "Epoch: 11/100 Step: 1300 Loss: 1.2281 Val Loss: 1.6065\n",
            "Train accuracy: 93.28 Val accuracy: 55.73\n",
            "\n",
            "----------\n",
            "----------\n",
            "\n",
            "Epoch: 12/100 Step: 1430 Loss: 1.1905 Val Loss: 1.6085\n",
            "Train accuracy: 94.05 Val accuracy: 56.00\n",
            "\n",
            "----------\n",
            "----------\n",
            "\n",
            "Epoch: 13/100 Step: 1560 Loss: 1.2804 Val Loss: 1.6059\n",
            "Train accuracy: 94.38 Val accuracy: 55.33\n",
            "\n",
            "----------\n",
            "----------\n",
            "\n",
            "Epoch: 15/100 Step: 1690 Loss: 1.2031 Val Loss: 1.6106\n",
            "Train accuracy: 95.20 Val accuracy: 55.33\n",
            "\n",
            "----------\n",
            "----------\n",
            "\n",
            "Epoch: 16/100 Step: 1820 Loss: 1.1930 Val Loss: 1.6165\n",
            "Train accuracy: 96.50 Val accuracy: 53.73\n",
            "\n",
            "----------\n",
            "----------\n",
            "\n",
            "Epoch: 17/100 Step: 1950 Loss: 1.2268 Val Loss: 1.6049\n",
            "Train accuracy: 95.80 Val accuracy: 55.73\n",
            "\n",
            "----------\n",
            "----------\n",
            "\n",
            "Epoch: 18/100 Step: 2080 Loss: 1.2065 Val Loss: 1.6092\n",
            "Train accuracy: 96.15 Val accuracy: 55.07\n",
            "\n",
            "----------\n",
            "----------\n",
            "\n",
            "Epoch: 19/100 Step: 2210 Loss: 1.2080 Val Loss: 1.6058\n",
            "Train accuracy: 96.00 Val accuracy: 55.87\n",
            "\n",
            "----------\n",
            "----------\n",
            "\n",
            "Epoch: 20/100 Step: 2340 Loss: 1.2046 Val Loss: 1.6104\n",
            "Train accuracy: 95.87 Val accuracy: 54.27\n",
            "\n",
            "----------\n",
            "----------\n",
            "\n",
            "Epoch: 21/100 Step: 2470 Loss: 1.1759 Val Loss: 1.6149\n",
            "Train accuracy: 96.17 Val accuracy: 55.20\n",
            "\n",
            "----------\n",
            "----------\n",
            "\n",
            "Epoch: 22/100 Step: 2600 Loss: 1.2461 Val Loss: 1.6069\n",
            "Train accuracy: 96.65 Val accuracy: 54.67\n",
            "\n",
            "----------\n",
            "----------\n",
            "\n",
            "Epoch: 23/100 Step: 2730 Loss: 1.2259 Val Loss: 1.6125\n",
            "Train accuracy: 96.49 Val accuracy: 55.20\n",
            "\n",
            "----------\n",
            "----------\n",
            "\n",
            "Epoch: 24/100 Step: 2860 Loss: 1.1870 Val Loss: 1.6093\n",
            "Train accuracy: 96.78 Val accuracy: 55.47\n",
            "\n",
            "----------\n",
            "----------\n",
            "\n",
            "Epoch: 25/100 Step: 2990 Loss: 1.1860 Val Loss: 1.6113\n",
            "Train accuracy: 96.80 Val accuracy: 55.07\n",
            "\n",
            "----------\n",
            "----------\n",
            "\n",
            "Epoch: 26/100 Step: 3120 Loss: 1.1859 Val Loss: 1.6051\n",
            "Train accuracy: 96.80 Val accuracy: 57.07\n",
            "\n",
            "----------\n",
            "----------\n",
            "\n",
            "Epoch: 28/100 Step: 3250 Loss: 1.1865 Val Loss: 1.6177\n",
            "Train accuracy: 96.80 Val accuracy: 53.20\n",
            "\n",
            "----------\n",
            "----------\n",
            "\n",
            "Epoch: 29/100 Step: 3380 Loss: 1.2062 Val Loss: 1.6130\n",
            "Train accuracy: 97.20 Val accuracy: 54.80\n",
            "\n",
            "----------\n",
            "----------\n",
            "\n",
            "Epoch: 30/100 Step: 3510 Loss: 1.1848 Val Loss: 1.6065\n",
            "Train accuracy: 97.13 Val accuracy: 56.00\n",
            "\n",
            "----------\n",
            "----------\n",
            "\n",
            "Epoch: 31/100 Step: 3640 Loss: 1.1862 Val Loss: 1.6106\n",
            "Train accuracy: 97.55 Val accuracy: 55.47\n",
            "\n",
            "----------\n",
            "----------\n",
            "\n",
            "Epoch: 32/100 Step: 3770 Loss: 1.2057 Val Loss: 1.6001\n",
            "Train accuracy: 97.40 Val accuracy: 56.27\n",
            "\n",
            "----------\n",
            "----------\n",
            "\n",
            "Epoch: 33/100 Step: 3900 Loss: 1.1658 Val Loss: 1.6099\n",
            "Train accuracy: 97.37 Val accuracy: 55.73\n",
            "\n",
            "----------\n",
            "----------\n",
            "\n",
            "Epoch: 34/100 Step: 4030 Loss: 1.2268 Val Loss: 1.6051\n",
            "Train accuracy: 96.77 Val accuracy: 55.33\n",
            "\n",
            "----------\n",
            "----------\n",
            "\n",
            "Epoch: 35/100 Step: 4160 Loss: 1.2055 Val Loss: 1.6091\n",
            "Train accuracy: 97.22 Val accuracy: 55.73\n",
            "\n",
            "----------\n",
            "----------\n",
            "\n",
            "Epoch: 36/100 Step: 4290 Loss: 1.2523 Val Loss: 1.6295\n",
            "Train accuracy: 95.78 Val accuracy: 52.67\n",
            "\n",
            "----------\n",
            "----------\n",
            "\n",
            "Epoch: 37/100 Step: 4420 Loss: 1.1917 Val Loss: 1.6237\n",
            "Train accuracy: 94.52 Val accuracy: 53.47\n",
            "\n",
            "----------\n",
            "----------\n",
            "\n",
            "Epoch: 38/100 Step: 4550 Loss: 1.1856 Val Loss: 1.6120\n",
            "Train accuracy: 97.05 Val accuracy: 54.13\n",
            "\n",
            "----------\n",
            "----------\n",
            "\n",
            "Epoch: 39/100 Step: 4680 Loss: 1.2040 Val Loss: 1.6090\n",
            "Train accuracy: 97.25 Val accuracy: 54.80\n",
            "\n",
            "----------\n",
            "----------\n",
            "\n",
            "Epoch: 41/100 Step: 4810 Loss: 1.1856 Val Loss: 1.6100\n",
            "Train accuracy: 97.80 Val accuracy: 54.13\n",
            "\n",
            "----------\n",
            "----------\n",
            "\n",
            "Epoch: 42/100 Step: 4940 Loss: 1.1844 Val Loss: 1.6154\n",
            "Train accuracy: 96.90 Val accuracy: 53.07\n",
            "\n",
            "----------\n",
            "----------\n",
            "\n",
            "Epoch: 43/100 Step: 5070 Loss: 1.2046 Val Loss: 1.6105\n",
            "Train accuracy: 96.80 Val accuracy: 54.53\n",
            "\n",
            "----------\n",
            "----------\n",
            "\n",
            "Epoch: 44/100 Step: 5200 Loss: 1.1656 Val Loss: 1.6203\n",
            "Train accuracy: 97.05 Val accuracy: 54.13\n",
            "\n",
            "----------\n",
            "----------\n",
            "\n",
            "Epoch: 45/100 Step: 5330 Loss: 1.1656 Val Loss: 1.6104\n",
            "Train accuracy: 97.72 Val accuracy: 54.67\n",
            "\n",
            "----------\n",
            "----------\n",
            "\n",
            "Epoch: 46/100 Step: 5460 Loss: 1.1848 Val Loss: 1.6166\n",
            "Train accuracy: 97.40 Val accuracy: 54.53\n",
            "\n",
            "----------\n",
            "----------\n",
            "\n",
            "Epoch: 47/100 Step: 5590 Loss: 1.1656 Val Loss: 1.6186\n",
            "Train accuracy: 97.49 Val accuracy: 53.07\n",
            "\n",
            "----------\n",
            "----------\n",
            "\n",
            "Epoch: 48/100 Step: 5720 Loss: 1.2032 Val Loss: 1.6101\n",
            "Train accuracy: 97.50 Val accuracy: 55.07\n",
            "\n",
            "----------\n",
            "----------\n",
            "\n",
            "Epoch: 49/100 Step: 5850 Loss: 1.2248 Val Loss: 1.6158\n",
            "Train accuracy: 97.51 Val accuracy: 53.87\n",
            "\n",
            "----------\n",
            "----------\n",
            "\n",
            "Epoch: 50/100 Step: 5980 Loss: 1.1655 Val Loss: 1.6109\n",
            "Train accuracy: 97.60 Val accuracy: 54.53\n",
            "\n",
            "----------\n",
            "----------\n",
            "\n",
            "Epoch: 51/100 Step: 6110 Loss: 1.2229 Val Loss: 1.6106\n",
            "Train accuracy: 97.42 Val accuracy: 54.00\n",
            "\n",
            "----------\n",
            "----------\n",
            "\n",
            "Epoch: 52/100 Step: 6240 Loss: 1.1855 Val Loss: 1.6142\n",
            "Train accuracy: 97.47 Val accuracy: 54.80\n",
            "\n",
            "----------\n",
            "----------\n",
            "\n",
            "Epoch: 54/100 Step: 6370 Loss: 1.2049 Val Loss: 1.6184\n",
            "Train accuracy: 97.20 Val accuracy: 53.73\n",
            "\n",
            "----------\n",
            "----------\n",
            "\n",
            "Epoch: 55/100 Step: 6500 Loss: 1.2049 Val Loss: 1.6135\n",
            "Train accuracy: 96.50 Val accuracy: 54.00\n",
            "\n",
            "----------\n",
            "----------\n",
            "\n",
            "Epoch: 56/100 Step: 6630 Loss: 1.1850 Val Loss: 1.6191\n",
            "Train accuracy: 98.00 Val accuracy: 53.33\n",
            "\n",
            "----------\n",
            "----------\n",
            "\n",
            "Epoch: 57/100 Step: 6760 Loss: 1.2053 Val Loss: 1.6094\n",
            "Train accuracy: 97.70 Val accuracy: 55.33\n",
            "\n",
            "----------\n",
            "----------\n",
            "\n",
            "Epoch: 58/100 Step: 6890 Loss: 1.2236 Val Loss: 1.6118\n",
            "Train accuracy: 97.64 Val accuracy: 54.13\n",
            "\n",
            "----------\n",
            "----------\n",
            "\n",
            "Epoch: 59/100 Step: 7020 Loss: 1.1856 Val Loss: 1.6057\n",
            "Train accuracy: 97.33 Val accuracy: 56.13\n",
            "\n",
            "----------\n",
            "----------\n",
            "\n",
            "Epoch: 60/100 Step: 7150 Loss: 1.1855 Val Loss: 1.6103\n",
            "Train accuracy: 97.86 Val accuracy: 55.07\n",
            "\n",
            "----------\n",
            "----------\n",
            "\n",
            "Epoch: 61/100 Step: 7280 Loss: 1.2712 Val Loss: 1.6988\n",
            "Train accuracy: 96.38 Val accuracy: 45.73\n",
            "\n",
            "----------\n",
            "----------\n",
            "\n",
            "Epoch: 62/100 Step: 7410 Loss: 1.2391 Val Loss: 1.6321\n",
            "Train accuracy: 93.56 Val accuracy: 51.87\n",
            "\n",
            "----------\n",
            "----------\n",
            "\n",
            "Epoch: 63/100 Step: 7540 Loss: 1.1689 Val Loss: 1.6214\n",
            "Train accuracy: 96.72 Val accuracy: 53.60\n",
            "\n",
            "----------\n",
            "----------\n",
            "\n",
            "Epoch: 64/100 Step: 7670 Loss: 1.1853 Val Loss: 1.6132\n",
            "Train accuracy: 97.44 Val accuracy: 53.87\n",
            "\n",
            "----------\n",
            "----------\n",
            "\n",
            "Epoch: 65/100 Step: 7800 Loss: 1.1859 Val Loss: 1.6026\n",
            "Train accuracy: 97.50 Val accuracy: 55.87\n",
            "\n",
            "----------\n",
            "----------\n",
            "\n",
            "Epoch: 67/100 Step: 7930 Loss: 1.1843 Val Loss: 1.6170\n",
            "Train accuracy: 97.80 Val accuracy: 53.60\n",
            "\n",
            "----------\n",
            "----------\n",
            "\n",
            "Epoch: 68/100 Step: 8060 Loss: 1.1855 Val Loss: 1.6145\n",
            "Train accuracy: 97.60 Val accuracy: 53.87\n",
            "\n",
            "----------\n",
            "----------\n",
            "\n",
            "Epoch: 69/100 Step: 8190 Loss: 1.2255 Val Loss: 1.6090\n",
            "Train accuracy: 97.40 Val accuracy: 54.40\n",
            "\n",
            "----------\n",
            "----------\n",
            "\n",
            "Epoch: 70/100 Step: 8320 Loss: 1.1847 Val Loss: 1.6086\n",
            "Train accuracy: 97.60 Val accuracy: 54.67\n",
            "\n",
            "----------\n",
            "----------\n",
            "\n",
            "Epoch: 71/100 Step: 8450 Loss: 1.1855 Val Loss: 1.6154\n",
            "Train accuracy: 97.60 Val accuracy: 54.13\n",
            "\n",
            "----------\n",
            "----------\n",
            "\n",
            "Epoch: 72/100 Step: 8580 Loss: 1.1855 Val Loss: 1.6105\n",
            "Train accuracy: 97.33 Val accuracy: 54.53\n",
            "\n",
            "----------\n",
            "----------\n",
            "\n",
            "Epoch: 73/100 Step: 8710 Loss: 1.1868 Val Loss: 1.6232\n",
            "Train accuracy: 97.34 Val accuracy: 53.33\n",
            "\n",
            "----------\n",
            "----------\n",
            "\n",
            "Epoch: 74/100 Step: 8840 Loss: 1.1845 Val Loss: 1.6167\n",
            "Train accuracy: 97.52 Val accuracy: 54.40\n",
            "\n",
            "----------\n",
            "----------\n",
            "\n",
            "Epoch: 75/100 Step: 8970 Loss: 1.2054 Val Loss: 1.6054\n",
            "Train accuracy: 97.67 Val accuracy: 55.33\n",
            "\n",
            "----------\n",
            "----------\n",
            "\n",
            "Epoch: 76/100 Step: 9100 Loss: 1.2050 Val Loss: 1.6159\n",
            "Train accuracy: 97.38 Val accuracy: 54.13\n",
            "\n",
            "----------\n",
            "----------\n",
            "\n",
            "Epoch: 77/100 Step: 9230 Loss: 1.1854 Val Loss: 1.6151\n",
            "Train accuracy: 97.71 Val accuracy: 53.60\n",
            "\n",
            "----------\n",
            "----------\n",
            "\n",
            "Epoch: 78/100 Step: 9360 Loss: 1.2042 Val Loss: 1.6179\n",
            "Train accuracy: 97.62 Val accuracy: 54.27\n",
            "\n",
            "----------\n",
            "----------\n",
            "\n",
            "Epoch: 80/100 Step: 9490 Loss: 1.2049 Val Loss: 1.6033\n",
            "Train accuracy: 98.60 Val accuracy: 56.53\n",
            "\n",
            "----------\n",
            "----------\n",
            "\n",
            "Epoch: 81/100 Step: 9620 Loss: 1.1855 Val Loss: 1.6219\n",
            "Train accuracy: 98.20 Val accuracy: 53.07\n",
            "\n",
            "----------\n",
            "----------\n",
            "\n",
            "Epoch: 82/100 Step: 9750 Loss: 1.1855 Val Loss: 1.6048\n",
            "Train accuracy: 97.53 Val accuracy: 54.93\n",
            "\n",
            "----------\n",
            "----------\n",
            "\n",
            "Epoch: 83/100 Step: 9880 Loss: 1.1854 Val Loss: 1.6091\n",
            "Train accuracy: 97.55 Val accuracy: 54.53\n",
            "\n",
            "----------\n",
            "----------\n",
            "\n",
            "Epoch: 84/100 Step: 10010 Loss: 1.1854 Val Loss: 1.6078\n",
            "Train accuracy: 97.40 Val accuracy: 55.60\n",
            "\n",
            "----------\n",
            "----------\n",
            "\n",
            "Epoch: 85/100 Step: 10140 Loss: 1.1848 Val Loss: 1.6197\n",
            "Train accuracy: 97.93 Val accuracy: 53.47\n",
            "\n",
            "----------\n",
            "----------\n",
            "\n",
            "Epoch: 86/100 Step: 10270 Loss: 1.1854 Val Loss: 1.6121\n",
            "Train accuracy: 97.51 Val accuracy: 54.13\n",
            "\n",
            "----------\n",
            "----------\n",
            "\n",
            "Epoch: 87/100 Step: 10400 Loss: 1.1855 Val Loss: 1.6071\n",
            "Train accuracy: 97.78 Val accuracy: 54.53\n",
            "\n",
            "----------\n",
            "----------\n",
            "\n",
            "Epoch: 88/100 Step: 10530 Loss: 1.1854 Val Loss: 1.6018\n",
            "Train accuracy: 97.64 Val accuracy: 55.60\n",
            "\n",
            "----------\n",
            "----------\n",
            "\n",
            "Epoch: 89/100 Step: 10660 Loss: 1.1853 Val Loss: 1.6034\n",
            "Train accuracy: 97.50 Val accuracy: 55.07\n",
            "\n",
            "----------\n",
            "----------\n",
            "\n",
            "Epoch: 90/100 Step: 10790 Loss: 1.1855 Val Loss: 1.6095\n",
            "Train accuracy: 97.65 Val accuracy: 54.53\n",
            "\n",
            "----------\n",
            "----------\n",
            "\n",
            "Epoch: 91/100 Step: 10920 Loss: 1.2051 Val Loss: 1.6049\n",
            "Train accuracy: 97.62 Val accuracy: 54.93\n",
            "\n",
            "----------\n",
            "----------\n",
            "\n",
            "Epoch: 93/100 Step: 11050 Loss: 1.1854 Val Loss: 1.6064\n",
            "Train accuracy: 97.60 Val accuracy: 55.20\n",
            "\n",
            "----------\n",
            "----------\n",
            "\n",
            "Epoch: 94/100 Step: 11180 Loss: 1.2453 Val Loss: 1.6047\n",
            "Train accuracy: 96.90 Val accuracy: 54.93\n",
            "\n",
            "----------\n",
            "----------\n",
            "\n",
            "Epoch: 95/100 Step: 11310 Loss: 1.1854 Val Loss: 1.6086\n",
            "Train accuracy: 97.13 Val accuracy: 55.20\n",
            "\n",
            "----------\n",
            "----------\n",
            "\n",
            "Epoch: 96/100 Step: 11440 Loss: 1.1654 Val Loss: 1.5986\n",
            "Train accuracy: 98.40 Val accuracy: 56.00\n",
            "\n",
            "----------\n",
            "----------\n",
            "\n",
            "Epoch: 97/100 Step: 11570 Loss: 1.1654 Val Loss: 1.6067\n",
            "Train accuracy: 97.68 Val accuracy: 55.20\n",
            "\n",
            "----------\n",
            "----------\n",
            "\n",
            "Epoch: 98/100 Step: 11700 Loss: 1.1809 Val Loss: 1.6293\n",
            "Train accuracy: 90.87 Val accuracy: 53.07\n",
            "\n",
            "----------\n",
            "----------\n",
            "\n",
            "Epoch: 99/100 Step: 11830 Loss: 1.1971 Val Loss: 1.6264\n",
            "Train accuracy: 96.57 Val accuracy: 53.20\n",
            "\n",
            "----------\n",
            "----------\n",
            "\n",
            "Epoch: 100/100 Step: 11960 Loss: 1.2058 Val Loss: 1.6304\n",
            "Train accuracy: 97.38 Val accuracy: 52.53\n",
            "\n",
            "----------\n",
            "Training complete in 1m 17s\n",
            "Best val Acc: 57.466667\n"
          ],
          "name": "stdout"
        }
      ]
    },
    {
      "cell_type": "code",
      "metadata": {
        "id": "3Ngx9VdyZJnE",
        "colab_type": "code",
        "outputId": "a892e2ed-399d-4264-f482-2c20b02004b2",
        "colab": {
          "base_uri": "https://localhost:8080/",
          "height": 34
        }
      },
      "source": [
        "net.load_state_dict(best_model_wts)"
      ],
      "execution_count": 44,
      "outputs": [
        {
          "output_type": "execute_result",
          "data": {
            "text/plain": [
              "IncompatibleKeys(missing_keys=[], unexpected_keys=[])"
            ]
          },
          "metadata": {
            "tags": []
          },
          "execution_count": 44
        }
      ]
    },
    {
      "cell_type": "markdown",
      "metadata": {
        "id": "r32cZez_qkIt",
        "colab_type": "text"
      },
      "source": [
        "## Testing the model on test dataset ##"
      ]
    },
    {
      "cell_type": "code",
      "metadata": {
        "id": "0Dz1kk58EVOt",
        "colab_type": "code",
        "outputId": "d5acdfef-a09d-4ff3-c89f-8344c9ddbc36",
        "colab": {
          "base_uri": "https://localhost:8080/",
          "height": 87
        }
      },
      "source": [
        "test_losses = [] # for tracking loss\n",
        "import numpy as np\n",
        "\n",
        "y_true = []\n",
        "\n",
        "y_probs = []\n",
        "\n",
        "y_pred = []\n",
        "\n",
        "\n",
        "total = 0\n",
        "correct = 0\n",
        "net.eval()\n",
        "\n",
        "# iterate over test data\n",
        "for inputs, labels in test_loader:\n",
        "\n",
        "\n",
        "\n",
        "    if(train_on_gpu):\n",
        "        inputs, labels = inputs.to(device), labels.to(device)\n",
        "        \n",
        "    \n",
        "    # get predicted outputs\n",
        "    inputs = inputs.type(torch.LongTensor)\n",
        "    probs, classes = net(inputs.to(device))\n",
        "    \n",
        "    y_true += labels.cpu().numpy().tolist()\n",
        "    y_probs += classes.cpu().numpy().tolist()\n",
        "    y_pred += probs.cpu().detach().tolist()\n",
        "\n",
        "    # for calculating accuracy\n",
        "    total += labels.size(0)\n",
        "    correct += (classes == labels).sum().item() # comparing predictions to true label\n",
        "\n",
        "    \n",
        "    test_loss = criterion(probs, labels)\n",
        "    test_losses.append(test_loss.item())\n",
        "    \n",
        "print(\"Test loss: {:.3f}\".format(np.mean(test_losses)))    \n",
        "print('Accuracy of the network on the test data : {:.3f} %'.format((correct / total) * 100))\n"
      ],
      "execution_count": 123,
      "outputs": [
        {
          "output_type": "stream",
          "text": [
            "Test loss: 1.493\n",
            "Accuracy of the network on the test data : 66.800 %\n"
          ],
          "name": "stdout"
        },
        {
          "output_type": "stream",
          "text": [
            "/usr/local/lib/python3.6/dist-packages/ipykernel_launcher.py:63: UserWarning: Implicit dimension choice for softmax has been deprecated. Change the call to include dim=X as an argument.\n"
          ],
          "name": "stderr"
        }
      ]
    },
    {
      "cell_type": "markdown",
      "metadata": {
        "id": "XXXX14M0sBMw",
        "colab_type": "text"
      },
      "source": [
        "## functions for analysis of model ##"
      ]
    },
    {
      "cell_type": "code",
      "metadata": {
        "id": "551pCCuAoYeV",
        "colab_type": "code",
        "colab": {}
      },
      "source": [
        "\n",
        "import sklearn.metrics as metrics\n",
        "\n",
        "def plot_confusion_matrix(y_true, y_pred, classes,\n",
        "                          normalize=False,\n",
        "                          title=None,\n",
        "                          cmap=plt.cm.Blues):\n",
        "    \"\"\"\n",
        "    This function prints and plots the confusion matrix.\n",
        "    Normalization can be applied by setting `normalize=True`.\n",
        "    \"\"\"\n",
        "    if not title:\n",
        "        if normalize:\n",
        "            title = 'Normalized confusion matrix'\n",
        "        else:\n",
        "            title = 'Confusion matrix, without normalization'\n",
        "\n",
        "    # Compute confusion matrix\n",
        "    cm =  metrics.confusion_matrix(y_true, y_pred)\n",
        "    # Only use the labels that appear in the da\n",
        "    if normalize:\n",
        "        cm = cm.astype('float') / cm.sum(axis=1)[:, np.newaxis]\n",
        "        print(\"Normalized confusion matrix\")\n",
        "    else:\n",
        "        print('Confusion matrix, without normalization')\n",
        "\n",
        "    fig, ax = plt.subplots()\n",
        "    im = ax.imshow(cm, interpolation='nearest', cmap=cmap)\n",
        "    ax.figure.colorbar(im, ax=ax)\n",
        "    # We want to show all ticks...\n",
        "    ax.set(xticks=np.arange(cm.shape[1]),\n",
        "           yticks=np.arange(cm.shape[0]),\n",
        "           # ... and label them with the respective list entries\n",
        "           xticklabels=classes, yticklabels=classes,\n",
        "           title=title,\n",
        "           ylabel='True label',\n",
        "           xlabel='Predicted label')\n",
        "\n",
        "    # Rotate the tick labels and set their alignment.\n",
        "    plt.setp(ax.get_xticklabels(), rotation=45, ha=\"right\",\n",
        "             rotation_mode=\"anchor\")\n",
        "\n",
        "    # Loop over data dimensions and create text annotations.\n",
        "    fmt = '.2f' if normalize else 'd'\n",
        "    thresh = cm.max() / 2.\n",
        "    for i in range(cm.shape[0]):\n",
        "        for j in range(cm.shape[1]):\n",
        "            ax.text(j, i, format(cm[i, j], fmt),\n",
        "                    ha=\"center\", va=\"center\",\n",
        "                    color=\"white\" if cm[i, j] > thresh else \"black\")\n",
        "    fig.tight_layout()\n",
        "    return ax\n"
      ],
      "execution_count": 0,
      "outputs": []
    },
    {
      "cell_type": "code",
      "metadata": {
        "id": "BXjVHFKOKjGC",
        "colab_type": "code",
        "colab": {}
      },
      "source": [
        "! pip3 install scikit-plot\n",
        "import scikitplot as skplt"
      ],
      "execution_count": 0,
      "outputs": []
    },
    {
      "cell_type": "code",
      "metadata": {
        "id": "8G-VNBpJR9RD",
        "colab_type": "code",
        "colab": {}
      },
      "source": [
        "from  sklearn.metrics import precision_recall_fscore_support\n",
        "from sklearn.metrics import roc_curve, auc\n",
        "from sklearn.preprocessing import LabelBinarizer\n",
        "\n",
        "def class_report(y_true, y_pred, y_score=None, average='micro'):\n",
        "    if y_true.shape != y_pred.shape:\n",
        "        print(\"Error! y_true %s is not the same shape as y_pred %s\" % (\n",
        "              y_true.shape,\n",
        "              y_pred.shape)\n",
        "        )\n",
        "        return\n",
        "\n",
        "    lb = LabelBinarizer()\n",
        "\n",
        "    if len(y_true.shape) == 1:\n",
        "        lb.fit(y_true)\n",
        "\n",
        "    #Value counts of predictions\n",
        "    labels, cnt = np.unique(\n",
        "        y_pred,\n",
        "        return_counts=True)\n",
        "    n_classes = len(labels)\n",
        "    pred_cnt = pd.Series(cnt, index=labels)\n",
        "\n",
        "    metrics_summary = precision_recall_fscore_support(\n",
        "            y_true=y_true,\n",
        "            y_pred=y_pred,\n",
        "            labels=labels)\n",
        "\n",
        "    avg = list(precision_recall_fscore_support(\n",
        "            y_true=y_true, \n",
        "            y_pred=y_pred,\n",
        "            average='weighted'))\n",
        "\n",
        "    metrics_sum_index = ['precision', 'recall', 'f1-score', 'support']\n",
        "    class_report_df = pd.DataFrame(\n",
        "        list(metrics_summary),\n",
        "        index=metrics_sum_index,\n",
        "        columns=labels)\n",
        "\n",
        "    support = class_report_df.loc['support']\n",
        "    total = support.sum() \n",
        "    class_report_df['avg / total'] = avg[:-1] + [total]\n",
        "\n",
        "    class_report_df = class_report_df.T\n",
        "    class_report_df['pred'] = pred_cnt\n",
        "    class_report_df['pred'].iloc[-1] = total\n",
        "\n",
        "    if not (y_score is None):\n",
        "        fpr = dict()\n",
        "        tpr = dict()\n",
        "        roc_auc = dict()\n",
        "        for label_it, label in enumerate(labels):\n",
        "            fpr[label], tpr[label], _ = roc_curve(\n",
        "                (y_true == label).astype(int), \n",
        "                y_score[:, label_it])\n",
        "\n",
        "            roc_auc[label] = auc(fpr[label], tpr[label])\n",
        "\n",
        "        if average == 'micro':\n",
        "            if n_classes <= 2:\n",
        "                fpr[\"avg / total\"], tpr[\"avg / total\"], _ = roc_curve(\n",
        "                    lb.transform(y_true).ravel(), \n",
        "                    y_score[:, 1].ravel())\n",
        "            else:\n",
        "                fpr[\"avg / total\"], tpr[\"avg / total\"], _ = roc_curve(\n",
        "                        lb.transform(y_true).ravel(), \n",
        "                        y_score.ravel())\n",
        "\n",
        "            roc_auc[\"avg / total\"] = auc(\n",
        "                fpr[\"avg / total\"], \n",
        "                tpr[\"avg / total\"])\n",
        "\n",
        "        elif average == 'macro':\n",
        "            # First aggregate all false positive rates\n",
        "            all_fpr = np.unique(np.concatenate([\n",
        "                fpr[i] for i in labels]\n",
        "            ))\n",
        "\n",
        "            # Then interpolate all ROC curves at this points\n",
        "            mean_tpr = np.zeros_like(all_fpr)\n",
        "            for i in labels:\n",
        "                mean_tpr += interp(all_fpr, fpr[i], tpr[i])\n",
        "\n",
        "            # Finally average it and compute AUC\n",
        "            mean_tpr /= n_classes\n",
        "\n",
        "            fpr[\"macro\"] = all_fpr\n",
        "            tpr[\"macro\"] = mean_tpr\n",
        "\n",
        "            roc_auc[\"avg / total\"] = auc(fpr[\"macro\"], tpr[\"macro\"])\n",
        "\n",
        "        class_report_df['AUC'] = pd.Series(roc_auc)\n",
        "\n",
        "    return class_report_df, fpr, tpr"
      ],
      "execution_count": 0,
      "outputs": []
    },
    {
      "cell_type": "markdown",
      "metadata": {
        "id": "wOsO1e40rXlV",
        "colab_type": "text"
      },
      "source": [
        "# Analysis of Model #"
      ]
    },
    {
      "cell_type": "code",
      "metadata": {
        "id": "XSjAdiSca_bj",
        "colab_type": "code",
        "colab": {
          "base_uri": "https://localhost:8080/",
          "height": 1094
        },
        "outputId": "8d99c3f4-710d-4a59-eef7-9c6942b58d06"
      },
      "source": [
        "y_true = np.array(y_true)\n",
        "\n",
        "y_probs = np.array(y_probs)\n",
        "\n",
        "y_pred = np.array(y_pred)\n",
        "\n",
        "\n",
        "report_with_auc , fpr , tpr = class_report(y_true=y_true, y_pred=y_probs, y_score=y_pred)\n",
        "\n",
        "print(report_with_auc)\n",
        "\n",
        "plot_confusion_matrix(y_true, y_probs, classes=emotions, normalize=False, title='confusion matrix')\n",
        "\n",
        "plot_confusion_matrix(y_true, y_probs, classes=emotions, normalize=False, title='confusion matrix')\n",
        "\n",
        "skplt.metrics.plot_roc_curve(y_true, y_pred)\n",
        "plt.show()"
      ],
      "execution_count": 133,
      "outputs": [
        {
          "output_type": "stream",
          "text": [
            "             precision    recall  f1-score  support   pred       AUC\n",
            "0             0.774194  0.864865  0.817021    111.0  124.0  0.964359\n",
            "1             0.797980  0.724771  0.759615    109.0   99.0  0.938256\n",
            "2             0.628571  0.600000  0.613953    110.0  105.0  0.898082\n",
            "3             0.657658  0.682243  0.669725    107.0  111.0  0.912676\n",
            "4             0.634409  0.561905  0.595960    105.0   93.0  0.869900\n",
            "5             0.558333  0.638095  0.595556    105.0  120.0  0.898915\n",
            "6             0.622449  0.592233  0.606965    103.0   98.0  0.914962\n",
            "avg / total   0.669037  0.668000  0.667079    750.0  750.0  0.914642\n",
            "Confusion matrix, without normalization\n",
            "Confusion matrix, without normalization\n"
          ],
          "name": "stdout"
        },
        {
          "output_type": "stream",
          "text": [
            "/usr/local/lib/python3.6/dist-packages/sklearn/utils/deprecation.py:85: DeprecationWarning: Function plot_roc_curve is deprecated; This will be removed in v0.5.0. Please use scikitplot.metrics.plot_roc instead.\n",
            "  warnings.warn(msg, category=DeprecationWarning)\n"
          ],
          "name": "stderr"
        },
        {
          "output_type": "display_data",
          "data": {
            "image/png": "[encoded data removed]",
            "text/plain": [
              "<Figure size 432x288 with 2 Axes>"
            ]
          },
          "metadata": {
            "tags": []
          }
        },
        {
          "output_type": "display_data",
          "data": {
            "image/png": "[encoded data removed]",
            "text/plain": [
              "<Figure size 432x288 with 2 Axes>"
            ]
          },
          "metadata": {
            "tags": []
          }
        },
        {
          "output_type": "display_data",
          "data": {
            "image/png": "[encoded data removed]",
            "text/plain": [
              "<Figure size 432x288 with 1 Axes>"
            ]
          },
          "metadata": {
            "tags": []
          }
        }
      ]
    },
    {
      "cell_type": "markdown",
      "metadata": {
        "id": "QF3HI5e9q4Ba",
        "colab_type": "text"
      },
      "source": [
        "## Testing model on custom string ##"
      ]
    },
    {
      "cell_type": "code",
      "metadata": {
        "id": "Cvuz7fikF4qb",
        "colab_type": "code",
        "outputId": "4ab9a5c1-c5de-41e4-b02f-38081e86c1bf",
        "colab": {
          "base_uri": "https://localhost:8080/",
          "height": 121
        }
      },
      "source": [
        "# testing on custom dataset\n",
        "\n",
        "from string import punctuation\n",
        "\n",
        "# for tranforming the string into tokens\n",
        "\n",
        "def tokenize_text(test_text):\n",
        "    test_text = test_text.lower() # lowercase\n",
        "    \n",
        "    # get rid of punctuation\n",
        "    test_text = ''.join([c for c in test_text if c not in punctuation])\n",
        "\n",
        "    # splitting the lines into words for tokenization\n",
        "    test_words = test_text.split()\n",
        "\n",
        "    # tokenizing the text\n",
        "    test_ints = []\n",
        "    test_ints.append([vocab_to_int[word] for word in test_words])\n",
        "\n",
        "    return test_ints\n",
        "  \n",
        "# test string\n",
        "test_text = \"I am very angry and sad !! :)\"\n",
        "\n",
        "\n",
        "def predict(net, test_text, sequence_length):\n",
        "    \n",
        "    net.eval()\n",
        "    \n",
        "    # tokenize text\n",
        "    test_ints = tokenize_text(test_text)\n",
        "    \n",
        "    # pad tokenized sequence\n",
        "    seq_length=sequence_length\n",
        "    features = pad_features(test_ints, seq_length)\n",
        "    \n",
        "    # convering the array to tensor to pass into the model\n",
        "    feature_tensor = torch.from_numpy(features)\n",
        "    \n",
        "    batch_size = feature_tensor.size(0) # number of strings to test\n",
        "\n",
        "    \n",
        "    if(train_on_gpu):\n",
        "        feature_tensor = feature_tensor.to(device)\n",
        "    \n",
        "    # get the output from the model\n",
        "    probs, classes = net(feature_tensor)\n",
        "    print(probs.cpu().detach().numpy())\n",
        "    print(emotions)\n",
        "\n",
        "\n",
        "    print(\"{} --> {}\".format(test_text, emotions[classes.cpu().numpy()[0]]))\n",
        "\n",
        "    \n",
        "predict(net, test_text, sequence_length=64)"
      ],
      "execution_count": 46,
      "outputs": [
        {
          "output_type": "stream",
          "text": [
            "[[3.4538571e-05 2.2265426e-04 1.2759455e-02 9.8604196e-01 6.5532414e-04\n",
            "  1.8914632e-04 9.6951670e-05]]\n",
            "['joy', 'fear', 'anger', 'sadness', 'disgust', 'shame', 'guilt']\n",
            "I am very angry and sad !! :) --> sadness\n"
          ],
          "name": "stdout"
        },
        {
          "output_type": "stream",
          "text": [
            "/usr/local/lib/python3.6/dist-packages/ipykernel_launcher.py:63: UserWarning: Implicit dimension choice for softmax has been deprecated. Change the call to include dim=X as an argument.\n"
          ],
          "name": "stderr"
        }
      ]
    },
    {
      "cell_type": "code",
      "metadata": {
        "id": "VpIBhGb5Lvm5",
        "colab_type": "code",
        "colab": {}
      },
      "source": [
        "#torch.save(net.state_dict(), 'model_sentiment_analysis_GRU_Pretrainied_v1.pt')"
      ],
      "execution_count": 0,
      "outputs": []
    },
    {
      "cell_type": "code",
      "metadata": {
        "id": "13RTEblFfEhJ",
        "colab_type": "code",
        "colab": {}
      },
      "source": [
        ""
      ],
      "execution_count": 0,
      "outputs": []
    },
    {
      "cell_type": "code",
      "metadata": {
        "id": "F4tl1WNwfJps",
        "colab_type": "code",
        "colab": {}
      },
      "source": [
        ""
      ],
      "execution_count": 0,
      "outputs": []
    },
    {
      "cell_type": "code",
      "metadata": {
        "id": "YFRZOmOSfSBu",
        "colab_type": "code",
        "colab": {}
      },
      "source": [
        ""
      ],
      "execution_count": 0,
      "outputs": []
    }
  ]
}